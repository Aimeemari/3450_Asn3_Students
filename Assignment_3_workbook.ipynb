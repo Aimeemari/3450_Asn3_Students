{
 "cells": [
  {
   "cell_type": "code",
   "execution_count": 3,
   "metadata": {},
   "outputs": [],
   "source": [
    "import thinkplot\n",
    "import thinkstats2\n",
    "import pandas as pd\n",
    "import numpy as np\n",
    "from sklearn.metrics import mean_squared_error\n",
    "import scipy.stats as ss\n",
    "from ipywidgets import interact, interactive, fixed\n",
    "import ipywidgets as widgets\n",
    "from zipfile import ZipFile\n",
    "import math\n",
    "\n",
    "##Seaborn for fancy plots. \n",
    "import matplotlib.pyplot as plt\n",
    "import seaborn as sns\n",
    "plt.rcParams[\"figure.figsize\"] = (8,8)"
   ]
  },
  {
   "cell_type": "code",
   "execution_count": 4,
   "metadata": {},
   "outputs": [
    {
     "data": {
      "text/html": [
       "<div>\n",
       "<style scoped>\n",
       "    .dataframe tbody tr th:only-of-type {\n",
       "        vertical-align: middle;\n",
       "    }\n",
       "\n",
       "    .dataframe tbody tr th {\n",
       "        vertical-align: top;\n",
       "    }\n",
       "\n",
       "    .dataframe thead th {\n",
       "        text-align: right;\n",
       "    }\n",
       "</style>\n",
       "<table border=\"1\" class=\"dataframe\">\n",
       "  <thead>\n",
       "    <tr style=\"text-align: right;\">\n",
       "      <th></th>\n",
       "      <th>race/ethnicity</th>\n",
       "      <th>parental level of education</th>\n",
       "      <th>lunch</th>\n",
       "      <th>test preparation course</th>\n",
       "      <th>math percentage</th>\n",
       "      <th>reading score percentage</th>\n",
       "      <th>writing score percentage</th>\n",
       "      <th>sex</th>\n",
       "    </tr>\n",
       "  </thead>\n",
       "  <tbody>\n",
       "    <tr>\n",
       "      <th>0</th>\n",
       "      <td>group B</td>\n",
       "      <td>bachelor's degree</td>\n",
       "      <td>standard</td>\n",
       "      <td>none</td>\n",
       "      <td>0.72</td>\n",
       "      <td>0.72</td>\n",
       "      <td>0.74</td>\n",
       "      <td>F</td>\n",
       "    </tr>\n",
       "    <tr>\n",
       "      <th>1</th>\n",
       "      <td>group C</td>\n",
       "      <td>some college</td>\n",
       "      <td>standard</td>\n",
       "      <td>completed</td>\n",
       "      <td>0.69</td>\n",
       "      <td>0.90</td>\n",
       "      <td>0.88</td>\n",
       "      <td>F</td>\n",
       "    </tr>\n",
       "    <tr>\n",
       "      <th>2</th>\n",
       "      <td>group B</td>\n",
       "      <td>master's degree</td>\n",
       "      <td>standard</td>\n",
       "      <td>none</td>\n",
       "      <td>0.90</td>\n",
       "      <td>0.95</td>\n",
       "      <td>0.93</td>\n",
       "      <td>F</td>\n",
       "    </tr>\n",
       "    <tr>\n",
       "      <th>3</th>\n",
       "      <td>group A</td>\n",
       "      <td>associate's degree</td>\n",
       "      <td>free/reduced</td>\n",
       "      <td>none</td>\n",
       "      <td>0.47</td>\n",
       "      <td>0.57</td>\n",
       "      <td>0.44</td>\n",
       "      <td>M</td>\n",
       "    </tr>\n",
       "    <tr>\n",
       "      <th>4</th>\n",
       "      <td>group C</td>\n",
       "      <td>some college</td>\n",
       "      <td>standard</td>\n",
       "      <td>none</td>\n",
       "      <td>0.76</td>\n",
       "      <td>0.78</td>\n",
       "      <td>0.75</td>\n",
       "      <td>M</td>\n",
       "    </tr>\n",
       "  </tbody>\n",
       "</table>\n",
       "</div>"
      ],
      "text/plain": [
       "  race/ethnicity parental level of education         lunch  \\\n",
       "0        group B           bachelor's degree      standard   \n",
       "1        group C                some college      standard   \n",
       "2        group B             master's degree      standard   \n",
       "3        group A          associate's degree  free/reduced   \n",
       "4        group C                some college      standard   \n",
       "\n",
       "  test preparation course  math percentage  reading score percentage  \\\n",
       "0                    none             0.72                      0.72   \n",
       "1               completed             0.69                      0.90   \n",
       "2                    none             0.90                      0.95   \n",
       "3                    none             0.47                      0.57   \n",
       "4                    none             0.76                      0.78   \n",
       "\n",
       "   writing score percentage sex  \n",
       "0                      0.74   F  \n",
       "1                      0.88   F  \n",
       "2                      0.93   F  \n",
       "3                      0.44   M  \n",
       "4                      0.75   M  "
      ]
     },
     "execution_count": 4,
     "metadata": {},
     "output_type": "execute_result"
    }
   ],
   "source": [
    "#Load data - please don't change this part. \n",
    "df = pd.read_csv(\"Student Performance new.csv\")\n",
    "df.drop(columns={\"Unnamed: 0\"}, inplace=True)\n",
    "df.head()"
   ]
  },
  {
   "cell_type": "markdown",
   "metadata": {},
   "source": [
    "<h1>Part 1: Is There a Significant Difference Between Boys and Girls in Math? (10 pts) </h1>\n",
    "\n",
    "Investigate and justify your answer. You should show 'a few' pieces of evidence to bolster your conclusion. Use your judgement on what makes a good piece of evidence.\n",
    "\n",
    "Answers Below:\n",
    "<ul>\n",
    "<li>MEAN - The calculation of the mean of both groups show that there's a difference (although a small one)\n",
    "<li>HIST PLOT - The Histogram plot for both groups also shows that there's a difference (also small)\n",
    "<li> P-VALUE - The t-test calculation, gives us a p-value that is really small (9.120185549328735e-08), indicating that the difference between the group IS SIGNIFICANT\n",
    "</ul>"
   ]
  },
  {
   "cell_type": "code",
   "execution_count": 5,
   "metadata": {},
   "outputs": [
    {
     "name": "stdout",
     "output_type": "stream",
     "text": [
      " Male group Stats:  0.6872821576763488 0.14356277196362377 0.02061026949387944 482\n",
      " Female group Stats:  0.636332046332046 0.15491453242339517 0.023998512355959158 518\n"
     ]
    }
   ],
   "source": [
    "##\n",
    "#Slicing out the data frame into male and female\n",
    "dfF = df[df[\"sex\"]==\"F\"]\n",
    "dfM = df[df[\"sex\"]==\"M\"]\n",
    "\n",
    "#Slicing out the data frame of maths percentage into male and female\n",
    "dfMathsF = dfF[\"math percentage\"]\n",
    "dfMathsM = dfM[\"math percentage\"]\n",
    "\n",
    "#Generating stats for mean and median\n",
    "MeanM, StdevM, VarM,  nM = dfMathsM.mean(), dfMathsM.std(), dfMathsM.var(), dfMathsM.count()\n",
    "MeanF, StdevF, VarF, nF = dfMathsF.mean(), dfMathsF.std(), dfMathsF.var(), dfMathsF.count()\n",
    "print(\" Male group Stats: \", MeanM, StdevM, VarM,  nM)\n",
    "print(\" Female group Stats: \", MeanF, StdevF, VarF,  nF)"
   ]
  },
  {
   "cell_type": "code",
   "execution_count": 6,
   "metadata": {},
   "outputs": [
    {
     "data": {
      "text/plain": [
       "<AxesSubplot:xlabel='math percentage', ylabel='Density'>"
      ]
     },
     "execution_count": 6,
     "metadata": {},
     "output_type": "execute_result"
    },
    {
     "data": {
      "image/png": "[encoded data removed]",
      "text/plain": [
       "<Figure size 576x576 with 1 Axes>"
      ]
     },
     "metadata": {
      "needs_background": "light"
     },
     "output_type": "display_data"
    }
   ],
   "source": [
    "#plotting a histogram of the 2 groups\n",
    "sns.histplot(dfMathsF, kde=True, stat=\"density\")\n",
    "sns.histplot(dfMathsM, kde=True, stat=\"density\", color='red')"
   ]
  },
  {
   "cell_type": "code",
   "execution_count": 7,
   "metadata": {},
   "outputs": [
    {
     "data": {
      "text/plain": [
       "9.120185549328735e-08"
      ]
     },
     "execution_count": 7,
     "metadata": {},
     "output_type": "execute_result"
    }
   ],
   "source": [
    "#using the dictionary function from spicy to calculate the Pvalue\n",
    "S2, p2 = ss.ttest_ind(dfMathsM, dfMathsF)\n",
    "p2"
   ]
  },
  {
   "cell_type": "markdown",
   "metadata": {},
   "source": [
    "<h1>Part 2: Is there a difference in math performance depending on Parental Education (15 pts)</h1>\n",
    "\n",
    "Investigate and justify your answer. You should show 'a few' pieces of evidence to bolster your conclusion.\n",
    " "
   ]
  },
  {
   "cell_type": "markdown",
   "metadata": {},
   "source": [
    "Answers Below:\n",
    "<ul>\n",
    "<li>LEVENE TEST - The Pvalue is high (0.45839733913132197), hence we fail to reject the null hypothesis. Our variances are most likely similar!\n",
    "<li>ANOVA - The Pvalue is low (5.592272384107223e-06). Here we reject the null hypothesis as the difference is most likely significant\n",
    "</ul>"
   ]
  },
  {
   "cell_type": "code",
   "execution_count": 8,
   "metadata": {},
   "outputs": [
    {
     "data": {
      "text/html": [
       "<div>\n",
       "<style scoped>\n",
       "    .dataframe tbody tr th:only-of-type {\n",
       "        vertical-align: middle;\n",
       "    }\n",
       "\n",
       "    .dataframe tbody tr th {\n",
       "        vertical-align: top;\n",
       "    }\n",
       "\n",
       "    .dataframe thead th {\n",
       "        text-align: right;\n",
       "    }\n",
       "</style>\n",
       "<table border=\"1\" class=\"dataframe\">\n",
       "  <thead>\n",
       "    <tr style=\"text-align: right;\">\n",
       "      <th></th>\n",
       "      <th>race/ethnicity</th>\n",
       "      <th>parental level of education</th>\n",
       "      <th>lunch</th>\n",
       "      <th>test preparation course</th>\n",
       "      <th>math percentage</th>\n",
       "      <th>reading score percentage</th>\n",
       "      <th>writing score percentage</th>\n",
       "      <th>sex</th>\n",
       "    </tr>\n",
       "  </thead>\n",
       "  <tbody>\n",
       "    <tr>\n",
       "      <th>0</th>\n",
       "      <td>group B</td>\n",
       "      <td>bachelor's degree</td>\n",
       "      <td>standard</td>\n",
       "      <td>none</td>\n",
       "      <td>0.72</td>\n",
       "      <td>0.72</td>\n",
       "      <td>0.74</td>\n",
       "      <td>F</td>\n",
       "    </tr>\n",
       "    <tr>\n",
       "      <th>1</th>\n",
       "      <td>group C</td>\n",
       "      <td>some college</td>\n",
       "      <td>standard</td>\n",
       "      <td>completed</td>\n",
       "      <td>0.69</td>\n",
       "      <td>0.90</td>\n",
       "      <td>0.88</td>\n",
       "      <td>F</td>\n",
       "    </tr>\n",
       "    <tr>\n",
       "      <th>2</th>\n",
       "      <td>group B</td>\n",
       "      <td>master's degree</td>\n",
       "      <td>standard</td>\n",
       "      <td>none</td>\n",
       "      <td>0.90</td>\n",
       "      <td>0.95</td>\n",
       "      <td>0.93</td>\n",
       "      <td>F</td>\n",
       "    </tr>\n",
       "    <tr>\n",
       "      <th>3</th>\n",
       "      <td>group A</td>\n",
       "      <td>associate's degree</td>\n",
       "      <td>free/reduced</td>\n",
       "      <td>none</td>\n",
       "      <td>0.47</td>\n",
       "      <td>0.57</td>\n",
       "      <td>0.44</td>\n",
       "      <td>M</td>\n",
       "    </tr>\n",
       "    <tr>\n",
       "      <th>4</th>\n",
       "      <td>group C</td>\n",
       "      <td>some college</td>\n",
       "      <td>standard</td>\n",
       "      <td>none</td>\n",
       "      <td>0.76</td>\n",
       "      <td>0.78</td>\n",
       "      <td>0.75</td>\n",
       "      <td>M</td>\n",
       "    </tr>\n",
       "  </tbody>\n",
       "</table>\n",
       "</div>"
      ],
      "text/plain": [
       "  race/ethnicity parental level of education         lunch  \\\n",
       "0        group B           bachelor's degree      standard   \n",
       "1        group C                some college      standard   \n",
       "2        group B             master's degree      standard   \n",
       "3        group A          associate's degree  free/reduced   \n",
       "4        group C                some college      standard   \n",
       "\n",
       "  test preparation course  math percentage  reading score percentage  \\\n",
       "0                    none             0.72                      0.72   \n",
       "1               completed             0.69                      0.90   \n",
       "2                    none             0.90                      0.95   \n",
       "3                    none             0.47                      0.57   \n",
       "4                    none             0.76                      0.78   \n",
       "\n",
       "   writing score percentage sex  \n",
       "0                      0.74   F  \n",
       "1                      0.88   F  \n",
       "2                      0.93   F  \n",
       "3                      0.44   M  \n",
       "4                      0.75   M  "
      ]
     },
     "execution_count": 8,
     "metadata": {},
     "output_type": "execute_result"
    }
   ],
   "source": [
    "df.head()"
   ]
  },
  {
   "cell_type": "code",
   "execution_count": 9,
   "metadata": {},
   "outputs": [
    {
     "name": "stdout",
     "output_type": "stream",
     "text": [
      "[\"bachelor's degree\" 'some college' \"master's degree\" \"associate's degree\"\n",
      " 'high school' 'some high school']\n"
     ]
    }
   ],
   "source": [
    "#checking how many groups there are\n",
    "print(df[\"parental level of education\"].unique())"
   ]
  },
  {
   "cell_type": "code",
   "execution_count": 10,
   "metadata": {},
   "outputs": [
    {
     "data": {
      "text/plain": [
       "<AxesSubplot:xlabel='parental level of education', ylabel='math percentage'>"
      ]
     },
     "execution_count": 10,
     "metadata": {},
     "output_type": "execute_result"
    },
    {
     "data": {
      "image/png": "[encoded data removed]",
      "text/plain": [
       "<Figure size 576x576 with 1 Axes>"
      ]
     },
     "metadata": {
      "needs_background": "light"
     },
     "output_type": "display_data"
    }
   ],
   "source": [
    "sns.boxplot(data=df, x=\"parental level of education\", y=\"math percentage\")"
   ]
  },
  {
   "cell_type": "code",
   "execution_count": 11,
   "metadata": {},
   "outputs": [],
   "source": [
    "##\n",
    "#slicing data frame into groups based on parental level of education\n",
    "dfBD = df[df[\"parental level of education\"]== \"bachelor's degree\"]\n",
    "dfSC = df[df[\"parental level of education\"]== \"some college\"]\n",
    "dfMD = df[df[\"parental level of education\"]== \"master's degree\"]\n",
    "dfAD = df[df[\"parental level of education\"]== \"associate's degree\"]\n",
    "dfHS = df[df[\"parental level of education\"]== \"high school\"]\n",
    "dfSHS = df[df[\"parental level of education\"]== \"some high school\"]\n",
    "\n",
    "#Slicing out the data frame of maths percentages accordingly\n",
    "dfMathsBD = dfBD[\"math percentage\"]\n",
    "dfMathsSC = dfSC[\"math percentage\"]\n",
    "dfMathsMD = dfMD[\"math percentage\"]\n",
    "dfMathsAD = dfAD[\"math percentage\"]\n",
    "dfMathsHS = dfHS[\"math percentage\"]\n",
    "dfMathsSHS = dfSHS[\"math percentage\"]\n"
   ]
  },
  {
   "cell_type": "code",
   "execution_count": 12,
   "metadata": {},
   "outputs": [
    {
     "data": {
      "text/plain": [
       "0.45839733913132197"
      ]
     },
     "execution_count": 12,
     "metadata": {},
     "output_type": "execute_result"
    }
   ],
   "source": [
    "#testing if the variances are equal\n",
    "varStat, varP = ss.levene(dfMathsBD, dfMathsSC, dfMathsMD, dfMathsAD, dfMathsHS,dfMathsSHS)\n",
    "varP"
   ]
  },
  {
   "cell_type": "code",
   "execution_count": 13,
   "metadata": {},
   "outputs": [
    {
     "data": {
      "text/plain": [
       "F_onewayResult(statistic=6.521582600453217, pvalue=5.592272384107223e-06)"
      ]
     },
     "execution_count": 13,
     "metadata": {},
     "output_type": "execute_result"
    }
   ],
   "source": [
    "#calculating the ANOVA\n",
    "ss.f_oneway(dfMathsBD, dfMathsSC, dfMathsMD, dfMathsAD, dfMathsHS,dfMathsSHS)"
   ]
  },
  {
   "cell_type": "markdown",
   "metadata": {},
   "source": [
    "<h1>What appears to be the best predictor of writing performance? (10pts)</h1>\n",
    "\n",
    "Justify your answer with about 2-3 sentences. Please also show the analysis that you did to draw your conclusion. There are multiple ways that you could come to a conclusion. \n",
    "\n",
    "<b>ANSWER<b>\n",
    "<li>\n",
    "The better predictor of writing performance is \"Reading Score percentage\". This is because it has got a  higher coefficient of determination (R squared = 0.9045576723188301) and also a lower (RMSE = 0.05612731762668169)"
   ]
  },
  {
   "cell_type": "code",
   "execution_count": 14,
   "metadata": {},
   "outputs": [
    {
     "data": {
      "text/html": [
       "<div>\n",
       "<style scoped>\n",
       "    .dataframe tbody tr th:only-of-type {\n",
       "        vertical-align: middle;\n",
       "    }\n",
       "\n",
       "    .dataframe tbody tr th {\n",
       "        vertical-align: top;\n",
       "    }\n",
       "\n",
       "    .dataframe thead th {\n",
       "        text-align: right;\n",
       "    }\n",
       "</style>\n",
       "<table border=\"1\" class=\"dataframe\">\n",
       "  <thead>\n",
       "    <tr style=\"text-align: right;\">\n",
       "      <th></th>\n",
       "      <th>race/ethnicity</th>\n",
       "      <th>parental level of education</th>\n",
       "      <th>lunch</th>\n",
       "      <th>test preparation course</th>\n",
       "      <th>math percentage</th>\n",
       "      <th>reading score percentage</th>\n",
       "      <th>writing score percentage</th>\n",
       "      <th>sex</th>\n",
       "    </tr>\n",
       "  </thead>\n",
       "  <tbody>\n",
       "    <tr>\n",
       "      <th>0</th>\n",
       "      <td>group B</td>\n",
       "      <td>bachelor's degree</td>\n",
       "      <td>standard</td>\n",
       "      <td>none</td>\n",
       "      <td>0.72</td>\n",
       "      <td>0.72</td>\n",
       "      <td>0.74</td>\n",
       "      <td>F</td>\n",
       "    </tr>\n",
       "    <tr>\n",
       "      <th>1</th>\n",
       "      <td>group C</td>\n",
       "      <td>some college</td>\n",
       "      <td>standard</td>\n",
       "      <td>completed</td>\n",
       "      <td>0.69</td>\n",
       "      <td>0.90</td>\n",
       "      <td>0.88</td>\n",
       "      <td>F</td>\n",
       "    </tr>\n",
       "  </tbody>\n",
       "</table>\n",
       "</div>"
      ],
      "text/plain": [
       "  race/ethnicity parental level of education     lunch  \\\n",
       "0        group B           bachelor's degree  standard   \n",
       "1        group C                some college  standard   \n",
       "\n",
       "  test preparation course  math percentage  reading score percentage  \\\n",
       "0                    none             0.72                      0.72   \n",
       "1               completed             0.69                      0.90   \n",
       "\n",
       "   writing score percentage sex  \n",
       "0                      0.74   F  \n",
       "1                      0.88   F  "
      ]
     },
     "execution_count": 14,
     "metadata": {},
     "output_type": "execute_result"
    }
   ],
   "source": [
    "df.head(2)"
   ]
  },
  {
   "cell_type": "code",
   "execution_count": 15,
   "metadata": {},
   "outputs": [
    {
     "data": {
      "text/plain": [
       "Index(['race/ethnicity', 'parental level of education', 'lunch',\n",
       "       'test preparation course', 'math percentage',\n",
       "       'reading score percentage', 'writing score percentage', 'sex'],\n",
       "      dtype='object')"
      ]
     },
     "execution_count": 15,
     "metadata": {},
     "output_type": "execute_result"
    }
   ],
   "source": [
    "df.columns"
   ]
  },
  {
   "cell_type": "code",
   "execution_count": 16,
   "metadata": {},
   "outputs": [],
   "source": [
    "#slicing the data sets\n",
    "wsp = \"writing score percentage\"\n",
    "rsp = \"reading score percentage\"\n",
    "mp = \"math percentage\"\n"
   ]
  },
  {
   "cell_type": "code",
   "execution_count": 17,
   "metadata": {},
   "outputs": [
    {
     "name": "stdout",
     "output_type": "stream",
     "text": [
      "Y intercept: 0.11583100668985502\n",
      "Slope: 0.8009213173511417\n",
      "Y intercept: 0.06750504735875762\n",
      "Slope: 0.9171906906886338\n"
     ]
    }
   ],
   "source": [
    "inter, slope = thinkstats2.LeastSquares(df[wsp], df[mp])\n",
    "res = thinkstats2.Residuals(df[wsp], df[mp], inter, slope)\n",
    "regLine = thinkstats2.FitLine(df[wsp], inter, slope)\n",
    "print(\"Y intercept:\", inter)\n",
    "print(\"Slope:\", slope)\n",
    "\n",
    "inter1, slope1= thinkstats2.LeastSquares(df[wsp], df[rsp])\n",
    "res1 = thinkstats2.Residuals(df[wsp], df[rsp], inter, slope)\n",
    "regLine1 = thinkstats2.FitLine(df[wsp], inter, slope)\n",
    "print(\"Y intercept:\", inter1)\n",
    "print(\"Slope:\", slope1)\n"
   ]
  },
  {
   "cell_type": "code",
   "execution_count": 18,
   "metadata": {},
   "outputs": [
    {
     "data": {
      "text/plain": [
       "<AxesSubplot:xlabel='writing score percentage', ylabel='math percentage'>"
      ]
     },
     "execution_count": 18,
     "metadata": {},
     "output_type": "execute_result"
    },
    {
     "data": {
      "image/png": "[encoded data removed]",
      "text/plain": [
       "<Figure size 576x576 with 1 Axes>"
      ]
     },
     "metadata": {
      "needs_background": "light"
     },
     "output_type": "display_data"
    }
   ],
   "source": [
    "sns.scatterplot(x=df[wsp], y=df[mp])\n",
    "sns.scatterplot(x=df[wsp], y=df[rsp])\n",
    "sns.lineplot(x=regLine[0], y=regLine[1])"
   ]
  },
  {
   "cell_type": "code",
   "execution_count": 19,
   "metadata": {},
   "outputs": [],
   "source": [
    "def rmseFromResiduals(residuals):\n",
    "    SSE = 0\n",
    "    for i in range(len(residuals)):\n",
    "        SSE += (residuals[i]**2)\n",
    "    MSE = SSE/len(residuals)\n",
    "    return math.sqrt(MSE)"
   ]
  },
  {
   "cell_type": "code",
   "execution_count": 20,
   "metadata": {},
   "outputs": [],
   "source": [
    "#Predictor of writing performance\n",
    "def rSquared(yvals, residuals):\n",
    "    return (1-(thinkstats2.Var(residuals)/thinkstats2.Var(yvals)))"
   ]
  },
  {
   "cell_type": "code",
   "execution_count": 24,
   "metadata": {},
   "outputs": [
    {
     "name": "stdout",
     "output_type": "stream",
     "text": [
      "RMSE for writing vs maths percentage is :  0.09039662966912626\n",
      "R2 for writing vs maths percentage is:  0.6457580218268599\n",
      "RMSE for writing vs reading percentage is 0.05612731762668169\n",
      "R2 for writing vs reading percentage is 0.9045576723188301\n"
     ]
    }
   ],
   "source": [
    "print(\"RMSE for writing vs maths percentage is : \", rmseFromResiduals(res))\n",
    "print(\"R2 for writing vs maths percentage is: \", rSquared(df[wsp], res))\n",
    "\n",
    "print(\"RMSE for writing vs reading percentage is\", rmseFromResiduals(res1))\n",
    "print(\"R2 for writing vs reading percentage is\", rSquared(df[wsp], res1))"
   ]
  },
  {
   "cell_type": "markdown",
   "metadata": {},
   "source": [
    "<h1>How well can the population read? (25 pts)</h1>\n",
    "<ul>\n",
    "<li>The test designers tell us that a score over 55% on the reading test is a good cutoff for being functionally literate. Given that, what percentage of test takers qualify as literate? (5 pts)\n",
    "<li>Assume that the test score results on this test reasonably represents the population. What is the expected mean score for the population at large, and what is the range in which you are 92% confident the population mean lies in? (15 pts)\n",
    "<li>Please demonstrate your 92% confidence from above in a graphical format (5pts)\n",
    "</ul>\n",
    "<b> ANSWER<b>\n",
    "<li>\n",
    "- Approximately 82% of the population qualify as literate\n",
    "<li>\n",
    "- The expected mean score for the population is 0.6925\n",
    "<li>\n",
    "- The range in which we are 92% confident is between 0.685 and 0.699 "
   ]
  },
  {
   "cell_type": "code",
   "execution_count": null,
   "metadata": {},
   "outputs": [
    {
     "data": {
      "text/html": [
       "<div>\n",
       "<style scoped>\n",
       "    .dataframe tbody tr th:only-of-type {\n",
       "        vertical-align: middle;\n",
       "    }\n",
       "\n",
       "    .dataframe tbody tr th {\n",
       "        vertical-align: top;\n",
       "    }\n",
       "\n",
       "    .dataframe thead th {\n",
       "        text-align: right;\n",
       "    }\n",
       "</style>\n",
       "<table border=\"1\" class=\"dataframe\">\n",
       "  <thead>\n",
       "    <tr style=\"text-align: right;\">\n",
       "      <th></th>\n",
       "      <th>race/ethnicity</th>\n",
       "      <th>parental level of education</th>\n",
       "      <th>lunch</th>\n",
       "      <th>test preparation course</th>\n",
       "      <th>math percentage</th>\n",
       "      <th>reading score percentage</th>\n",
       "      <th>writing score percentage</th>\n",
       "      <th>sex</th>\n",
       "    </tr>\n",
       "  </thead>\n",
       "  <tbody>\n",
       "    <tr>\n",
       "      <th>0</th>\n",
       "      <td>group B</td>\n",
       "      <td>bachelor's degree</td>\n",
       "      <td>standard</td>\n",
       "      <td>none</td>\n",
       "      <td>0.72</td>\n",
       "      <td>0.72</td>\n",
       "      <td>0.74</td>\n",
       "      <td>F</td>\n",
       "    </tr>\n",
       "    <tr>\n",
       "      <th>1</th>\n",
       "      <td>group C</td>\n",
       "      <td>some college</td>\n",
       "      <td>standard</td>\n",
       "      <td>completed</td>\n",
       "      <td>0.69</td>\n",
       "      <td>0.90</td>\n",
       "      <td>0.88</td>\n",
       "      <td>F</td>\n",
       "    </tr>\n",
       "    <tr>\n",
       "      <th>2</th>\n",
       "      <td>group B</td>\n",
       "      <td>master's degree</td>\n",
       "      <td>standard</td>\n",
       "      <td>none</td>\n",
       "      <td>0.90</td>\n",
       "      <td>0.95</td>\n",
       "      <td>0.93</td>\n",
       "      <td>F</td>\n",
       "    </tr>\n",
       "    <tr>\n",
       "      <th>3</th>\n",
       "      <td>group A</td>\n",
       "      <td>associate's degree</td>\n",
       "      <td>free/reduced</td>\n",
       "      <td>none</td>\n",
       "      <td>0.47</td>\n",
       "      <td>0.57</td>\n",
       "      <td>0.44</td>\n",
       "      <td>M</td>\n",
       "    </tr>\n",
       "    <tr>\n",
       "      <th>4</th>\n",
       "      <td>group C</td>\n",
       "      <td>some college</td>\n",
       "      <td>standard</td>\n",
       "      <td>none</td>\n",
       "      <td>0.76</td>\n",
       "      <td>0.78</td>\n",
       "      <td>0.75</td>\n",
       "      <td>M</td>\n",
       "    </tr>\n",
       "  </tbody>\n",
       "</table>\n",
       "</div>"
      ],
      "text/plain": [
       "  race/ethnicity parental level of education         lunch  \\\n",
       "0        group B           bachelor's degree      standard   \n",
       "1        group C                some college      standard   \n",
       "2        group B             master's degree      standard   \n",
       "3        group A          associate's degree  free/reduced   \n",
       "4        group C                some college      standard   \n",
       "\n",
       "  test preparation course  math percentage  reading score percentage  \\\n",
       "0                    none             0.72                      0.72   \n",
       "1               completed             0.69                      0.90   \n",
       "2                    none             0.90                      0.95   \n",
       "3                    none             0.47                      0.57   \n",
       "4                    none             0.76                      0.78   \n",
       "\n",
       "   writing score percentage sex  \n",
       "0                      0.74   F  \n",
       "1                      0.88   F  \n",
       "2                      0.93   F  \n",
       "3                      0.44   M  \n",
       "4                      0.75   M  "
      ]
     },
     "execution_count": 62,
     "metadata": {},
     "output_type": "execute_result"
    }
   ],
   "source": [
    "df.head()"
   ]
  },
  {
   "cell_type": "code",
   "execution_count": 26,
   "metadata": {},
   "outputs": [
    {
     "data": {
      "text/plain": [
       "82.39999999999999"
      ]
     },
     "execution_count": 26,
     "metadata": {},
     "output_type": "execute_result"
    }
   ],
   "source": [
    "##\n",
    "#Percentage of test takers that qualify as literate.\n",
    "aboveCutoff = (sum(df[\"reading score percentage\"]> 0.55) / len(df))*100\n",
    "aboveCutoff\n"
   ]
  },
  {
   "cell_type": "code",
   "execution_count": 27,
   "metadata": {},
   "outputs": [],
   "source": [
    "#function to simulate the normal distribution\n",
    "def simulateNormal(mu=0, sigma=1, n=100, m=10000, ciLow=5, ciHi=95):\n",
    "    means = []\n",
    "    for j in range(m):\n",
    "        xs = np.random.normal(mu, sigma, n)\n",
    "        xbar = np.mean(xs)\n",
    "        means.append(xbar)\n",
    "    cdf = thinkstats2.Cdf(means)\n",
    "    ci = cdf.Percentile(ciLow), cdf.Percentile(ciHi)\n",
    "    muList = [mu] * m\n",
    "    stderr = mean_squared_error(means, muList, squared=False)\n",
    "    return cdf, ci, stderr"
   ]
  },
  {
   "cell_type": "code",
   "execution_count": 32,
   "metadata": {},
   "outputs": [
    {
     "name": "stdout",
     "output_type": "stream",
     "text": [
      "Standard Error: 0.004496300130714872\n",
      "Low CI: 0.685087118106346\n",
      "Hi CI: 0.697974589088116\n"
     ]
    },
    {
     "data": {
      "image/png": "[encoded data removed]",
      "text/plain": [
       "<Figure size 576x576 with 1 Axes>"
      ]
     },
     "metadata": {
      "needs_background": "light"
     },
     "output_type": "display_data"
    }
   ],
   "source": [
    "mu = df[\"reading score percentage\"].mean()\n",
    "sigma = df[\"reading score percentage\"].std()\n",
    "n = df[\"reading score percentage\"].count()\n",
    "\n",
    "cdf, ci, stderr = simulateNormal(mu=mu, sigma=sigma, n=n, m=1000, ciLow=8, ciHi=92)\n",
    "print(\"Standard Error:\", stderr)\n",
    "print(\"Low CI:\", ci[0])\n",
    "print(\"Hi CI:\", ci[1])\n",
    "thinkplot.Cdf(cdf)\n",
    "thinkplot.axvline(ci[0], color=\"red\")\n",
    "thinkplot.axvline(ci[1], color=\"red\")\n",
    "thinkplot.Config()"
   ]
  },
  {
   "cell_type": "markdown",
   "metadata": {},
   "source": [
    "<h1>What are the odds...(10 pts)</h1>\n",
    "\n",
    "M&M's are small candy-coated chocolates that come in a variety of colors.  \n",
    "Mars, Inc., which makes M&M's, changes the mixture of colors from time to time.\n",
    "In 1995, they introduced blue M&M's.  \n",
    "\n",
    "* In 1994, the color mix in a bag of plain M&M's was 30\\% Brown, 20\\% Yellow, 20\\% Red, 10\\% Green, 10\\% Orange, 10\\% Tan.  \n",
    "\n",
    "* In 1996, it was 24\\% Blue , 20\\% Green, 16\\% Orange, 14\\% Yellow, 13\\% Red, 13\\% Brown.\n",
    "\n",
    "Suppose a friend of mine has two bags of M&M's, and he tells me\n",
    "that one is from 1994 and one from 1996.  He won't tell me which is\n",
    "which, but he gives me one M&M from each bag.  One is yellow and\n",
    "one is green.  What is the probability that the yellow one came\n",
    "from the 1994 bag?\n",
    "\n",
    "Hint: The trick to this question is to define the hypotheses and the data carefully."
   ]
  },
  {
   "cell_type": "code",
   "execution_count": null,
   "metadata": {},
   "outputs": [
    {
     "name": "stdout",
     "output_type": "stream",
     "text": [
      "      prior  likelihood  unorm  posterior\n",
      "1994    0.5        0.20   0.10   0.588235\n",
      "1996    0.5        0.14   0.07   0.411765\n",
      "\n",
      "The probability of Yellow M&M from Bag1994 is : 0.588235\n",
      "\n",
      "The Odds is: 1.4285696938787897\n"
     ]
    }
   ],
   "source": [
    "##\n",
    "#using the bayes theorem to calculate the probability\n",
    "table = pd.DataFrame(index=['1994', '1996'])\n",
    "table\n",
    "table['prior'] = 0.5 #Prior to anything known, there's an equal chance to pick a yellow M & M from each bag\n",
    "table\n",
    "table[\"likelihood\"] = 0.2, 0.14 #additional information on the likelyhood to pick a yellow M & M from either bag\n",
    "table\n",
    "table[\"unorm\"] = table['prior'] * table[\"likelihood\"]\n",
    "table\n",
    "probDAta = table[\"unorm\"].sum()\n",
    "table[\"posterior\"] = table[\"unorm\"] / probDAta\n",
    "print(table)\n",
    "print()\n",
    "print(\"The probability of Yellow M&M from Bag1994 is :\", 0.588235)\n",
    "print()\n",
    "oddYel1994 = 0.588235 / (1-0.588235)\n",
    "print(\"The Odds is:\", oddYel1994)\n"
   ]
  },
  {
   "cell_type": "markdown",
   "metadata": {},
   "source": [
    "<h1>911 Calls (10pts)</h1>\n",
    "<ul>\n",
    "<li>For this data, what is the mean time in between 911 calls. (Note: this will require some manipulation of data - Google \"pandas date\" and \"date difference in minutes\" as a starting point. It is not super complex, apx 2-4 lines or so) (5pts)\n",
    "<li>What is a good distribution to model this? (5pts)\n",
    "</ul>\n",
    "<b> ANSWER<b>\n",
    "- A good distribution for this is the <b>POISSON DISTRIBUTION<b>"
   ]
  },
  {
   "cell_type": "code",
   "execution_count": null,
   "metadata": {},
   "outputs": [
    {
     "data": {
      "text/html": [
       "<div>\n",
       "<style scoped>\n",
       "    .dataframe tbody tr th:only-of-type {\n",
       "        vertical-align: middle;\n",
       "    }\n",
       "\n",
       "    .dataframe tbody tr th {\n",
       "        vertical-align: top;\n",
       "    }\n",
       "\n",
       "    .dataframe thead th {\n",
       "        text-align: right;\n",
       "    }\n",
       "</style>\n",
       "<table border=\"1\" class=\"dataframe\">\n",
       "  <thead>\n",
       "    <tr style=\"text-align: right;\">\n",
       "      <th></th>\n",
       "      <th>zip</th>\n",
       "      <th>title</th>\n",
       "      <th>timeStamp</th>\n",
       "      <th>twp</th>\n",
       "    </tr>\n",
       "  </thead>\n",
       "  <tbody>\n",
       "    <tr>\n",
       "      <th>0</th>\n",
       "      <td>19525.0</td>\n",
       "      <td>EMS: BACK PAINS/INJURY</td>\n",
       "      <td>2015-12-10 17:10</td>\n",
       "      <td>NEW HANOVER</td>\n",
       "    </tr>\n",
       "    <tr>\n",
       "      <th>1</th>\n",
       "      <td>19446.0</td>\n",
       "      <td>EMS: DIABETIC EMERGENCY</td>\n",
       "      <td>2015-12-10 17:29</td>\n",
       "      <td>HATFIELD TOWNSHIP</td>\n",
       "    </tr>\n",
       "    <tr>\n",
       "      <th>2</th>\n",
       "      <td>19401.0</td>\n",
       "      <td>Fire: GAS-ODOR/LEAK</td>\n",
       "      <td>2015-12-10 14:39</td>\n",
       "      <td>NORRISTOWN</td>\n",
       "    </tr>\n",
       "    <tr>\n",
       "      <th>3</th>\n",
       "      <td>19401.0</td>\n",
       "      <td>EMS: CARDIAC EMERGENCY</td>\n",
       "      <td>2015-12-10 16:47</td>\n",
       "      <td>NORRISTOWN</td>\n",
       "    </tr>\n",
       "    <tr>\n",
       "      <th>4</th>\n",
       "      <td>NaN</td>\n",
       "      <td>EMS: DIZZINESS</td>\n",
       "      <td>2015-12-10 16:56</td>\n",
       "      <td>LOWER POTTSGROVE</td>\n",
       "    </tr>\n",
       "  </tbody>\n",
       "</table>\n",
       "</div>"
      ],
      "text/plain": [
       "       zip                    title         timeStamp                twp\n",
       "0  19525.0   EMS: BACK PAINS/INJURY  2015-12-10 17:10        NEW HANOVER\n",
       "1  19446.0  EMS: DIABETIC EMERGENCY  2015-12-10 17:29  HATFIELD TOWNSHIP\n",
       "2  19401.0      Fire: GAS-ODOR/LEAK  2015-12-10 14:39         NORRISTOWN\n",
       "3  19401.0   EMS: CARDIAC EMERGENCY  2015-12-10 16:47         NORRISTOWN\n",
       "4      NaN           EMS: DIZZINESS  2015-12-10 16:56   LOWER POTTSGROVE"
      ]
     },
     "execution_count": 56,
     "metadata": {},
     "output_type": "execute_result"
    }
   ],
   "source": [
    "#read file - Don't change this part. \n",
    "calls = \"\"\n",
    "with ZipFile('911_2.csv.zip') as myzip:\n",
    "    with myzip.open('911_2.csv') as myfile:\n",
    "       calls = pd.read_csv(myfile)\n",
    "calls.head()"
   ]
  },
  {
   "cell_type": "code",
   "execution_count": null,
   "metadata": {},
   "outputs": [
    {
     "data": {
      "text/plain": [
       "663522"
      ]
     },
     "execution_count": 67,
     "metadata": {},
     "output_type": "execute_result"
    }
   ],
   "source": [
    "#Generate Time Between Calls\n",
    "nofCalls = calls[\"timeStamp\"].count() #total number of calls\n",
    "nofCalls"
   ]
  },
  {
   "cell_type": "code",
   "execution_count": null,
   "metadata": {},
   "outputs": [
    {
     "ename": "SyntaxError",
     "evalue": "invalid syntax (<ipython-input-71-0876e743d00f>, line 5)",
     "output_type": "error",
     "traceback": [
      "\u001b[1;36m  File \u001b[1;32m\"<ipython-input-71-0876e743d00f>\"\u001b[1;36m, line \u001b[1;32m5\u001b[0m\n\u001b[1;33m    timBWcalls.append(time)\u001b[0m\n\u001b[1;37m    ^\u001b[0m\n\u001b[1;31mSyntaxError\u001b[0m\u001b[1;31m:\u001b[0m invalid syntax\n"
     ]
    }
   ],
   "source": [
    "#time between calls\n",
    "timBWcalls = []\n",
    "for i in range (len(calls)):\n",
    "    time = (pd.to_datetime(calls[\"timeStap\"][i])-(pd.to_datetime(calls['Planned Pickup date/time'][1])\n",
    "    timBWcalls.append(time)\n"
   ]
  }
 ],
 "metadata": {
  "interpreter": {
   "hash": "ea39297c2a3b8433e0e3c4b620aff79df88eb4bda961dfb2311fbafd7efdbd77"
  },
  "kernelspec": {
   "display_name": "Python 3.8.11 64-bit ('base': conda)",
   "name": "python3"
  },
  "language_info": {
   "codemirror_mode": {
    "name": "ipython",
    "version": 3
   },
   "file_extension": ".py",
   "mimetype": "text/x-python",
   "name": "python",
   "nbconvert_exporter": "python",
   "pygments_lexer": "ipython3",
   "version": "3.8.8"
  },
  "orig_nbformat": 4
 },
 "nbformat": 4,
 "nbformat_minor": 2
}
